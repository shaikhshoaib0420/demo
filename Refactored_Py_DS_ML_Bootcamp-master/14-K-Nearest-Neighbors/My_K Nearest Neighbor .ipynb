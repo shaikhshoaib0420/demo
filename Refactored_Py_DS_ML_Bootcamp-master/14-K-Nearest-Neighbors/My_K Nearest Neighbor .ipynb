{
 "cells": [
  {
   "cell_type": "code",
   "execution_count": 25,
   "metadata": {},
   "outputs": [],
   "source": [
    "import pandas as ds\n",
    "import numpy as nm\n",
    "import matplotlib.pyplot as lib\n",
    "import seaborn as sns\n",
    "%matplotlib inline"
   ]
  },
  {
   "cell_type": "code",
   "execution_count": 26,
   "metadata": {},
   "outputs": [],
   "source": [
    "da=ds.read_csv('Classified Data',index_col=0)"
   ]
  },
  {
   "cell_type": "code",
   "execution_count": 27,
   "metadata": {},
   "outputs": [
    {
     "data": {
      "text/html": [
       "<div>\n",
       "<style scoped>\n",
       "    .dataframe tbody tr th:only-of-type {\n",
       "        vertical-align: middle;\n",
       "    }\n",
       "\n",
       "    .dataframe tbody tr th {\n",
       "        vertical-align: top;\n",
       "    }\n",
       "\n",
       "    .dataframe thead th {\n",
       "        text-align: right;\n",
       "    }\n",
       "</style>\n",
       "<table border=\"1\" class=\"dataframe\">\n",
       "  <thead>\n",
       "    <tr style=\"text-align: right;\">\n",
       "      <th></th>\n",
       "      <th>WTT</th>\n",
       "      <th>PTI</th>\n",
       "      <th>EQW</th>\n",
       "      <th>SBI</th>\n",
       "      <th>LQE</th>\n",
       "      <th>QWG</th>\n",
       "      <th>FDJ</th>\n",
       "      <th>PJF</th>\n",
       "      <th>HQE</th>\n",
       "      <th>NXJ</th>\n",
       "      <th>TARGET CLASS</th>\n",
       "    </tr>\n",
       "  </thead>\n",
       "  <tbody>\n",
       "    <tr>\n",
       "      <th>0</th>\n",
       "      <td>0.913917</td>\n",
       "      <td>1.162073</td>\n",
       "      <td>0.567946</td>\n",
       "      <td>0.755464</td>\n",
       "      <td>0.780862</td>\n",
       "      <td>0.352608</td>\n",
       "      <td>0.759697</td>\n",
       "      <td>0.643798</td>\n",
       "      <td>0.879422</td>\n",
       "      <td>1.231409</td>\n",
       "      <td>1</td>\n",
       "    </tr>\n",
       "    <tr>\n",
       "      <th>1</th>\n",
       "      <td>0.635632</td>\n",
       "      <td>1.003722</td>\n",
       "      <td>0.535342</td>\n",
       "      <td>0.825645</td>\n",
       "      <td>0.924109</td>\n",
       "      <td>0.648450</td>\n",
       "      <td>0.675334</td>\n",
       "      <td>1.013546</td>\n",
       "      <td>0.621552</td>\n",
       "      <td>1.492702</td>\n",
       "      <td>0</td>\n",
       "    </tr>\n",
       "    <tr>\n",
       "      <th>2</th>\n",
       "      <td>0.721360</td>\n",
       "      <td>1.201493</td>\n",
       "      <td>0.921990</td>\n",
       "      <td>0.855595</td>\n",
       "      <td>1.526629</td>\n",
       "      <td>0.720781</td>\n",
       "      <td>1.626351</td>\n",
       "      <td>1.154483</td>\n",
       "      <td>0.957877</td>\n",
       "      <td>1.285597</td>\n",
       "      <td>0</td>\n",
       "    </tr>\n",
       "    <tr>\n",
       "      <th>3</th>\n",
       "      <td>1.234204</td>\n",
       "      <td>1.386726</td>\n",
       "      <td>0.653046</td>\n",
       "      <td>0.825624</td>\n",
       "      <td>1.142504</td>\n",
       "      <td>0.875128</td>\n",
       "      <td>1.409708</td>\n",
       "      <td>1.380003</td>\n",
       "      <td>1.522692</td>\n",
       "      <td>1.153093</td>\n",
       "      <td>1</td>\n",
       "    </tr>\n",
       "    <tr>\n",
       "      <th>4</th>\n",
       "      <td>1.279491</td>\n",
       "      <td>0.949750</td>\n",
       "      <td>0.627280</td>\n",
       "      <td>0.668976</td>\n",
       "      <td>1.232537</td>\n",
       "      <td>0.703727</td>\n",
       "      <td>1.115596</td>\n",
       "      <td>0.646691</td>\n",
       "      <td>1.463812</td>\n",
       "      <td>1.419167</td>\n",
       "      <td>1</td>\n",
       "    </tr>\n",
       "  </tbody>\n",
       "</table>\n",
       "</div>"
      ],
      "text/plain": [
       "        WTT       PTI       EQW       SBI       LQE       QWG       FDJ  \\\n",
       "0  0.913917  1.162073  0.567946  0.755464  0.780862  0.352608  0.759697   \n",
       "1  0.635632  1.003722  0.535342  0.825645  0.924109  0.648450  0.675334   \n",
       "2  0.721360  1.201493  0.921990  0.855595  1.526629  0.720781  1.626351   \n",
       "3  1.234204  1.386726  0.653046  0.825624  1.142504  0.875128  1.409708   \n",
       "4  1.279491  0.949750  0.627280  0.668976  1.232537  0.703727  1.115596   \n",
       "\n",
       "        PJF       HQE       NXJ  TARGET CLASS  \n",
       "0  0.643798  0.879422  1.231409             1  \n",
       "1  1.013546  0.621552  1.492702             0  \n",
       "2  1.154483  0.957877  1.285597             0  \n",
       "3  1.380003  1.522692  1.153093             1  \n",
       "4  0.646691  1.463812  1.419167             1  "
      ]
     },
     "execution_count": 27,
     "metadata": {},
     "output_type": "execute_result"
    }
   ],
   "source": [
    "da.head()"
   ]
  },
  {
   "cell_type": "markdown",
   "metadata": {},
   "source": [
    "PREPROCESSING THE DATA"
   ]
  },
  {
   "cell_type": "code",
   "execution_count": 28,
   "metadata": {},
   "outputs": [],
   "source": [
    "from sklearn.preprocessing import StandardScaler"
   ]
  },
  {
   "cell_type": "code",
   "execution_count": 29,
   "metadata": {},
   "outputs": [],
   "source": [
    "scaler=StandardScaler()"
   ]
  },
  {
   "cell_type": "code",
   "execution_count": 30,
   "metadata": {},
   "outputs": [
    {
     "data": {
      "text/plain": [
       "StandardScaler()"
      ]
     },
     "execution_count": 30,
     "metadata": {},
     "output_type": "execute_result"
    }
   ],
   "source": [
    "scaler.fit(da.drop('TARGET CLASS',axis=1))      #Removing the 'TARGET CLASS' column"
   ]
  },
  {
   "cell_type": "code",
   "execution_count": 31,
   "metadata": {},
   "outputs": [],
   "source": [
    "scaled=scaler.transform(da.drop('TARGET CLASS',axis=1))  #Scaling and Transforming the Dataset to Standard Format"
   ]
  },
  {
   "cell_type": "code",
   "execution_count": 32,
   "metadata": {},
   "outputs": [
    {
     "data": {
      "text/plain": [
       "array([[-0.12354188,  0.18590747, -0.91343069, ..., -1.48236813,\n",
       "        -0.9497194 , -0.64331425],\n",
       "       [-1.08483602, -0.43034845, -1.02531333, ..., -0.20224031,\n",
       "        -1.82805088,  0.63675862],\n",
       "       [-0.78870217,  0.33931821,  0.30151137, ...,  0.28570652,\n",
       "        -0.68249379, -0.37784986],\n",
       "       ...,\n",
       "       [ 0.64177714, -0.51308341, -0.17920486, ..., -2.36249443,\n",
       "        -0.81426092,  0.11159651],\n",
       "       [ 0.46707241, -0.98278576, -1.46519359, ..., -0.03677699,\n",
       "         0.40602453, -0.85567   ],\n",
       "       [-0.38765353, -0.59589427, -1.4313981 , ..., -0.56778932,\n",
       "         0.3369971 ,  0.01034996]])"
      ]
     },
     "execution_count": 32,
     "metadata": {},
     "output_type": "execute_result"
    }
   ],
   "source": [
    "scaled"
   ]
  },
  {
   "cell_type": "markdown",
   "metadata": {},
   "source": [
    "Creating the Data Frame of the dataset "
   ]
  },
  {
   "cell_type": "code",
   "execution_count": 37,
   "metadata": {},
   "outputs": [],
   "source": [
    "scaledd=ds.DataFrame(scaled,columns=da.columns[:-1])"
   ]
  },
  {
   "cell_type": "code",
   "execution_count": 39,
   "metadata": {},
   "outputs": [
    {
     "data": {
      "text/html": [
       "<div>\n",
       "<style scoped>\n",
       "    .dataframe tbody tr th:only-of-type {\n",
       "        vertical-align: middle;\n",
       "    }\n",
       "\n",
       "    .dataframe tbody tr th {\n",
       "        vertical-align: top;\n",
       "    }\n",
       "\n",
       "    .dataframe thead th {\n",
       "        text-align: right;\n",
       "    }\n",
       "</style>\n",
       "<table border=\"1\" class=\"dataframe\">\n",
       "  <thead>\n",
       "    <tr style=\"text-align: right;\">\n",
       "      <th></th>\n",
       "      <th>WTT</th>\n",
       "      <th>PTI</th>\n",
       "      <th>EQW</th>\n",
       "      <th>SBI</th>\n",
       "      <th>LQE</th>\n",
       "      <th>QWG</th>\n",
       "      <th>FDJ</th>\n",
       "      <th>PJF</th>\n",
       "      <th>HQE</th>\n",
       "      <th>NXJ</th>\n",
       "    </tr>\n",
       "  </thead>\n",
       "  <tbody>\n",
       "    <tr>\n",
       "      <th>0</th>\n",
       "      <td>-0.123542</td>\n",
       "      <td>0.185907</td>\n",
       "      <td>-0.913431</td>\n",
       "      <td>0.319629</td>\n",
       "      <td>-1.033637</td>\n",
       "      <td>-2.308375</td>\n",
       "      <td>-0.798951</td>\n",
       "      <td>-1.482368</td>\n",
       "      <td>-0.949719</td>\n",
       "      <td>-0.643314</td>\n",
       "    </tr>\n",
       "    <tr>\n",
       "      <th>1</th>\n",
       "      <td>-1.084836</td>\n",
       "      <td>-0.430348</td>\n",
       "      <td>-1.025313</td>\n",
       "      <td>0.625388</td>\n",
       "      <td>-0.444847</td>\n",
       "      <td>-1.152706</td>\n",
       "      <td>-1.129797</td>\n",
       "      <td>-0.202240</td>\n",
       "      <td>-1.828051</td>\n",
       "      <td>0.636759</td>\n",
       "    </tr>\n",
       "    <tr>\n",
       "      <th>2</th>\n",
       "      <td>-0.788702</td>\n",
       "      <td>0.339318</td>\n",
       "      <td>0.301511</td>\n",
       "      <td>0.755873</td>\n",
       "      <td>2.031693</td>\n",
       "      <td>-0.870156</td>\n",
       "      <td>2.599818</td>\n",
       "      <td>0.285707</td>\n",
       "      <td>-0.682494</td>\n",
       "      <td>-0.377850</td>\n",
       "    </tr>\n",
       "    <tr>\n",
       "      <th>3</th>\n",
       "      <td>0.982841</td>\n",
       "      <td>1.060193</td>\n",
       "      <td>-0.621399</td>\n",
       "      <td>0.625299</td>\n",
       "      <td>0.452820</td>\n",
       "      <td>-0.267220</td>\n",
       "      <td>1.750208</td>\n",
       "      <td>1.066491</td>\n",
       "      <td>1.241325</td>\n",
       "      <td>-1.026987</td>\n",
       "    </tr>\n",
       "    <tr>\n",
       "      <th>4</th>\n",
       "      <td>1.139275</td>\n",
       "      <td>-0.640392</td>\n",
       "      <td>-0.709819</td>\n",
       "      <td>-0.057175</td>\n",
       "      <td>0.822886</td>\n",
       "      <td>-0.936773</td>\n",
       "      <td>0.596782</td>\n",
       "      <td>-1.472352</td>\n",
       "      <td>1.040772</td>\n",
       "      <td>0.276510</td>\n",
       "    </tr>\n",
       "  </tbody>\n",
       "</table>\n",
       "</div>"
      ],
      "text/plain": [
       "        WTT       PTI       EQW       SBI       LQE       QWG       FDJ  \\\n",
       "0 -0.123542  0.185907 -0.913431  0.319629 -1.033637 -2.308375 -0.798951   \n",
       "1 -1.084836 -0.430348 -1.025313  0.625388 -0.444847 -1.152706 -1.129797   \n",
       "2 -0.788702  0.339318  0.301511  0.755873  2.031693 -0.870156  2.599818   \n",
       "3  0.982841  1.060193 -0.621399  0.625299  0.452820 -0.267220  1.750208   \n",
       "4  1.139275 -0.640392 -0.709819 -0.057175  0.822886 -0.936773  0.596782   \n",
       "\n",
       "        PJF       HQE       NXJ  \n",
       "0 -1.482368 -0.949719 -0.643314  \n",
       "1 -0.202240 -1.828051  0.636759  \n",
       "2  0.285707 -0.682494 -0.377850  \n",
       "3  1.066491  1.241325 -1.026987  \n",
       "4 -1.472352  1.040772  0.276510  "
      ]
     },
     "execution_count": 39,
     "metadata": {},
     "output_type": "execute_result"
    }
   ],
   "source": [
    "scaledd.head()"
   ]
  },
  {
   "cell_type": "code",
   "execution_count": 40,
   "metadata": {},
   "outputs": [
    {
     "data": {
      "text/plain": [
       "Index(['WTT', 'PTI', 'EQW', 'SBI', 'LQE', 'QWG', 'FDJ', 'PJF', 'HQE', 'NXJ',\n",
       "       'TARGET CLASS'],\n",
       "      dtype='object')"
      ]
     },
     "execution_count": 40,
     "metadata": {},
     "output_type": "execute_result"
    }
   ],
   "source": [
    "da.columns"
   ]
  },
  {
   "cell_type": "code",
   "execution_count": 41,
   "metadata": {},
   "outputs": [
    {
     "data": {
      "text/plain": [
       "Index(['WTT', 'PTI', 'EQW', 'SBI', 'LQE', 'QWG', 'FDJ', 'PJF', 'HQE', 'NXJ'], dtype='object')"
      ]
     },
     "execution_count": 41,
     "metadata": {},
     "output_type": "execute_result"
    }
   ],
   "source": [
    "da.columns[:-1]"
   ]
  },
  {
   "cell_type": "code",
   "execution_count": 43,
   "metadata": {},
   "outputs": [],
   "source": [
    "from sklearn.model_selection import train_test_split"
   ]
  },
  {
   "cell_type": "code",
   "execution_count": 44,
   "metadata": {},
   "outputs": [],
   "source": [
    "X=scaledd\n",
    "y=da['TARGET CLASS']\n",
    "\n",
    "X_train, X_test, y_train, y_test = train_test_split( X, y, test_size=0.33, random_state=42)"
   ]
  },
  {
   "cell_type": "code",
   "execution_count": 46,
   "metadata": {},
   "outputs": [],
   "source": [
    "from sklearn.neighbors import KNeighborsClassifier"
   ]
  },
  {
   "cell_type": "code",
   "execution_count": 50,
   "metadata": {},
   "outputs": [],
   "source": [
    "knn=KNeighborsClassifier(n_neighbors=1)"
   ]
  },
  {
   "cell_type": "code",
   "execution_count": 51,
   "metadata": {},
   "outputs": [
    {
     "data": {
      "text/plain": [
       "KNeighborsClassifier(n_neighbors=1)"
      ]
     },
     "execution_count": 51,
     "metadata": {},
     "output_type": "execute_result"
    }
   ],
   "source": [
    "knn.fit(X_train,y_train)"
   ]
  },
  {
   "cell_type": "code",
   "execution_count": 53,
   "metadata": {},
   "outputs": [
    {
     "data": {
      "text/html": [
       "<div>\n",
       "<style scoped>\n",
       "    .dataframe tbody tr th:only-of-type {\n",
       "        vertical-align: middle;\n",
       "    }\n",
       "\n",
       "    .dataframe tbody tr th {\n",
       "        vertical-align: top;\n",
       "    }\n",
       "\n",
       "    .dataframe thead th {\n",
       "        text-align: right;\n",
       "    }\n",
       "</style>\n",
       "<table border=\"1\" class=\"dataframe\">\n",
       "  <thead>\n",
       "    <tr style=\"text-align: right;\">\n",
       "      <th></th>\n",
       "      <th>WTT</th>\n",
       "      <th>PTI</th>\n",
       "      <th>EQW</th>\n",
       "      <th>SBI</th>\n",
       "      <th>LQE</th>\n",
       "      <th>QWG</th>\n",
       "      <th>FDJ</th>\n",
       "      <th>PJF</th>\n",
       "      <th>HQE</th>\n",
       "      <th>NXJ</th>\n",
       "    </tr>\n",
       "  </thead>\n",
       "  <tbody>\n",
       "    <tr>\n",
       "      <th>703</th>\n",
       "      <td>1.741762</td>\n",
       "      <td>-1.544911</td>\n",
       "      <td>0.219819</td>\n",
       "      <td>0.372042</td>\n",
       "      <td>-0.552159</td>\n",
       "      <td>-0.581842</td>\n",
       "      <td>0.765168</td>\n",
       "      <td>-0.909920</td>\n",
       "      <td>1.693054</td>\n",
       "      <td>-0.181650</td>\n",
       "    </tr>\n",
       "    <tr>\n",
       "      <th>311</th>\n",
       "      <td>-0.253575</td>\n",
       "      <td>1.867009</td>\n",
       "      <td>0.393787</td>\n",
       "      <td>-0.872150</td>\n",
       "      <td>0.129042</td>\n",
       "      <td>-0.348117</td>\n",
       "      <td>0.443513</td>\n",
       "      <td>0.885854</td>\n",
       "      <td>0.108135</td>\n",
       "      <td>0.336401</td>\n",
       "    </tr>\n",
       "    <tr>\n",
       "      <th>722</th>\n",
       "      <td>-1.080970</td>\n",
       "      <td>0.427936</td>\n",
       "      <td>0.038017</td>\n",
       "      <td>-0.951017</td>\n",
       "      <td>-1.149811</td>\n",
       "      <td>0.235974</td>\n",
       "      <td>-0.835427</td>\n",
       "      <td>-1.120490</td>\n",
       "      <td>0.867817</td>\n",
       "      <td>0.112991</td>\n",
       "    </tr>\n",
       "    <tr>\n",
       "      <th>629</th>\n",
       "      <td>0.268749</td>\n",
       "      <td>-1.082794</td>\n",
       "      <td>-0.650835</td>\n",
       "      <td>0.779415</td>\n",
       "      <td>-2.290312</td>\n",
       "      <td>-1.486998</td>\n",
       "      <td>-0.740214</td>\n",
       "      <td>0.798178</td>\n",
       "      <td>0.218989</td>\n",
       "      <td>0.232603</td>\n",
       "    </tr>\n",
       "    <tr>\n",
       "      <th>0</th>\n",
       "      <td>-0.123542</td>\n",
       "      <td>0.185907</td>\n",
       "      <td>-0.913431</td>\n",
       "      <td>0.319629</td>\n",
       "      <td>-1.033637</td>\n",
       "      <td>-2.308375</td>\n",
       "      <td>-0.798951</td>\n",
       "      <td>-1.482368</td>\n",
       "      <td>-0.949719</td>\n",
       "      <td>-0.643314</td>\n",
       "    </tr>\n",
       "    <tr>\n",
       "      <th>...</th>\n",
       "      <td>...</td>\n",
       "      <td>...</td>\n",
       "      <td>...</td>\n",
       "      <td>...</td>\n",
       "      <td>...</td>\n",
       "      <td>...</td>\n",
       "      <td>...</td>\n",
       "      <td>...</td>\n",
       "      <td>...</td>\n",
       "      <td>...</td>\n",
       "    </tr>\n",
       "    <tr>\n",
       "      <th>106</th>\n",
       "      <td>-1.978598</td>\n",
       "      <td>0.475777</td>\n",
       "      <td>-0.422636</td>\n",
       "      <td>-1.134506</td>\n",
       "      <td>-0.406097</td>\n",
       "      <td>1.351978</td>\n",
       "      <td>-0.621618</td>\n",
       "      <td>-0.241688</td>\n",
       "      <td>-0.869905</td>\n",
       "      <td>-1.996312</td>\n",
       "    </tr>\n",
       "    <tr>\n",
       "      <th>270</th>\n",
       "      <td>0.220902</td>\n",
       "      <td>0.689820</td>\n",
       "      <td>-0.343130</td>\n",
       "      <td>-0.679380</td>\n",
       "      <td>-0.874421</td>\n",
       "      <td>-1.057533</td>\n",
       "      <td>0.706221</td>\n",
       "      <td>-0.509378</td>\n",
       "      <td>1.124947</td>\n",
       "      <td>0.495153</td>\n",
       "    </tr>\n",
       "    <tr>\n",
       "      <th>860</th>\n",
       "      <td>-1.025521</td>\n",
       "      <td>1.241777</td>\n",
       "      <td>0.358562</td>\n",
       "      <td>0.220358</td>\n",
       "      <td>1.838459</td>\n",
       "      <td>-0.103198</td>\n",
       "      <td>0.325037</td>\n",
       "      <td>0.132569</td>\n",
       "      <td>-1.510792</td>\n",
       "      <td>0.832863</td>\n",
       "    </tr>\n",
       "    <tr>\n",
       "      <th>435</th>\n",
       "      <td>0.888357</td>\n",
       "      <td>0.802441</td>\n",
       "      <td>-0.802459</td>\n",
       "      <td>0.036219</td>\n",
       "      <td>-0.411028</td>\n",
       "      <td>-1.040641</td>\n",
       "      <td>-1.206336</td>\n",
       "      <td>0.071199</td>\n",
       "      <td>-1.351282</td>\n",
       "      <td>0.933751</td>\n",
       "    </tr>\n",
       "    <tr>\n",
       "      <th>102</th>\n",
       "      <td>0.984286</td>\n",
       "      <td>1.864232</td>\n",
       "      <td>-1.048236</td>\n",
       "      <td>-0.576055</td>\n",
       "      <td>0.283768</td>\n",
       "      <td>-0.629910</td>\n",
       "      <td>0.504642</td>\n",
       "      <td>-0.377265</td>\n",
       "      <td>-0.231939</td>\n",
       "      <td>-0.287136</td>\n",
       "    </tr>\n",
       "  </tbody>\n",
       "</table>\n",
       "<p>670 rows × 10 columns</p>\n",
       "</div>"
      ],
      "text/plain": [
       "          WTT       PTI       EQW       SBI       LQE       QWG       FDJ  \\\n",
       "703  1.741762 -1.544911  0.219819  0.372042 -0.552159 -0.581842  0.765168   \n",
       "311 -0.253575  1.867009  0.393787 -0.872150  0.129042 -0.348117  0.443513   \n",
       "722 -1.080970  0.427936  0.038017 -0.951017 -1.149811  0.235974 -0.835427   \n",
       "629  0.268749 -1.082794 -0.650835  0.779415 -2.290312 -1.486998 -0.740214   \n",
       "0   -0.123542  0.185907 -0.913431  0.319629 -1.033637 -2.308375 -0.798951   \n",
       "..        ...       ...       ...       ...       ...       ...       ...   \n",
       "106 -1.978598  0.475777 -0.422636 -1.134506 -0.406097  1.351978 -0.621618   \n",
       "270  0.220902  0.689820 -0.343130 -0.679380 -0.874421 -1.057533  0.706221   \n",
       "860 -1.025521  1.241777  0.358562  0.220358  1.838459 -0.103198  0.325037   \n",
       "435  0.888357  0.802441 -0.802459  0.036219 -0.411028 -1.040641 -1.206336   \n",
       "102  0.984286  1.864232 -1.048236 -0.576055  0.283768 -0.629910  0.504642   \n",
       "\n",
       "          PJF       HQE       NXJ  \n",
       "703 -0.909920  1.693054 -0.181650  \n",
       "311  0.885854  0.108135  0.336401  \n",
       "722 -1.120490  0.867817  0.112991  \n",
       "629  0.798178  0.218989  0.232603  \n",
       "0   -1.482368 -0.949719 -0.643314  \n",
       "..        ...       ...       ...  \n",
       "106 -0.241688 -0.869905 -1.996312  \n",
       "270 -0.509378  1.124947  0.495153  \n",
       "860  0.132569 -1.510792  0.832863  \n",
       "435  0.071199 -1.351282  0.933751  \n",
       "102 -0.377265 -0.231939 -0.287136  \n",
       "\n",
       "[670 rows x 10 columns]"
      ]
     },
     "execution_count": 53,
     "metadata": {},
     "output_type": "execute_result"
    }
   ],
   "source": [
    "X_train"
   ]
  },
  {
   "cell_type": "code",
   "execution_count": 54,
   "metadata": {},
   "outputs": [
    {
     "data": {
      "text/plain": [
       "703    1\n",
       "311    0\n",
       "722    1\n",
       "629    1\n",
       "0      1\n",
       "      ..\n",
       "106    0\n",
       "270    1\n",
       "860    0\n",
       "435    1\n",
       "102    1\n",
       "Name: TARGET CLASS, Length: 670, dtype: int64"
      ]
     },
     "execution_count": 54,
     "metadata": {},
     "output_type": "execute_result"
    }
   ],
   "source": [
    "y_train"
   ]
  },
  {
   "cell_type": "code",
   "execution_count": 55,
   "metadata": {},
   "outputs": [
    {
     "data": {
      "text/html": [
       "<div>\n",
       "<style scoped>\n",
       "    .dataframe tbody tr th:only-of-type {\n",
       "        vertical-align: middle;\n",
       "    }\n",
       "\n",
       "    .dataframe tbody tr th {\n",
       "        vertical-align: top;\n",
       "    }\n",
       "\n",
       "    .dataframe thead th {\n",
       "        text-align: right;\n",
       "    }\n",
       "</style>\n",
       "<table border=\"1\" class=\"dataframe\">\n",
       "  <thead>\n",
       "    <tr style=\"text-align: right;\">\n",
       "      <th></th>\n",
       "      <th>WTT</th>\n",
       "      <th>PTI</th>\n",
       "      <th>EQW</th>\n",
       "      <th>SBI</th>\n",
       "      <th>LQE</th>\n",
       "      <th>QWG</th>\n",
       "      <th>FDJ</th>\n",
       "      <th>PJF</th>\n",
       "      <th>HQE</th>\n",
       "      <th>NXJ</th>\n",
       "    </tr>\n",
       "  </thead>\n",
       "  <tbody>\n",
       "    <tr>\n",
       "      <th>521</th>\n",
       "      <td>-0.840720</td>\n",
       "      <td>1.583438</td>\n",
       "      <td>1.018093</td>\n",
       "      <td>-1.214048</td>\n",
       "      <td>-0.557318</td>\n",
       "      <td>-0.108117</td>\n",
       "      <td>0.418539</td>\n",
       "      <td>0.495338</td>\n",
       "      <td>-0.407867</td>\n",
       "      <td>0.406975</td>\n",
       "    </tr>\n",
       "    <tr>\n",
       "      <th>737</th>\n",
       "      <td>1.381655</td>\n",
       "      <td>0.412642</td>\n",
       "      <td>-0.440155</td>\n",
       "      <td>0.576212</td>\n",
       "      <td>-1.489652</td>\n",
       "      <td>-1.060713</td>\n",
       "      <td>-0.849707</td>\n",
       "      <td>-1.839249</td>\n",
       "      <td>0.932394</td>\n",
       "      <td>-0.928714</td>\n",
       "    </tr>\n",
       "    <tr>\n",
       "      <th>740</th>\n",
       "      <td>1.268502</td>\n",
       "      <td>0.133668</td>\n",
       "      <td>0.717822</td>\n",
       "      <td>0.957695</td>\n",
       "      <td>-0.361608</td>\n",
       "      <td>0.645475</td>\n",
       "      <td>-2.549821</td>\n",
       "      <td>-0.904516</td>\n",
       "      <td>-0.422002</td>\n",
       "      <td>1.089682</td>\n",
       "    </tr>\n",
       "    <tr>\n",
       "      <th>660</th>\n",
       "      <td>0.911948</td>\n",
       "      <td>-0.433407</td>\n",
       "      <td>-1.315355</td>\n",
       "      <td>1.037253</td>\n",
       "      <td>-0.943751</td>\n",
       "      <td>-1.081542</td>\n",
       "      <td>-1.807654</td>\n",
       "      <td>0.573993</td>\n",
       "      <td>0.310824</td>\n",
       "      <td>-0.010354</td>\n",
       "    </tr>\n",
       "    <tr>\n",
       "      <th>411</th>\n",
       "      <td>-0.017284</td>\n",
       "      <td>0.739700</td>\n",
       "      <td>0.321345</td>\n",
       "      <td>-0.096414</td>\n",
       "      <td>-0.245185</td>\n",
       "      <td>0.692505</td>\n",
       "      <td>0.511209</td>\n",
       "      <td>-0.206656</td>\n",
       "      <td>-0.184316</td>\n",
       "      <td>2.460944</td>\n",
       "    </tr>\n",
       "    <tr>\n",
       "      <th>...</th>\n",
       "      <td>...</td>\n",
       "      <td>...</td>\n",
       "      <td>...</td>\n",
       "      <td>...</td>\n",
       "      <td>...</td>\n",
       "      <td>...</td>\n",
       "      <td>...</td>\n",
       "      <td>...</td>\n",
       "      <td>...</td>\n",
       "      <td>...</td>\n",
       "    </tr>\n",
       "    <tr>\n",
       "      <th>506</th>\n",
       "      <td>1.527228</td>\n",
       "      <td>0.351409</td>\n",
       "      <td>-0.594208</td>\n",
       "      <td>-0.294356</td>\n",
       "      <td>0.532733</td>\n",
       "      <td>0.142463</td>\n",
       "      <td>-1.008286</td>\n",
       "      <td>-0.452064</td>\n",
       "      <td>1.557091</td>\n",
       "      <td>-2.828660</td>\n",
       "    </tr>\n",
       "    <tr>\n",
       "      <th>342</th>\n",
       "      <td>-0.816886</td>\n",
       "      <td>-1.494791</td>\n",
       "      <td>-0.711867</td>\n",
       "      <td>-0.100880</td>\n",
       "      <td>-0.853004</td>\n",
       "      <td>-1.020837</td>\n",
       "      <td>0.517168</td>\n",
       "      <td>0.446645</td>\n",
       "      <td>0.906404</td>\n",
       "      <td>0.562439</td>\n",
       "    </tr>\n",
       "    <tr>\n",
       "      <th>485</th>\n",
       "      <td>-0.950710</td>\n",
       "      <td>0.342405</td>\n",
       "      <td>0.057680</td>\n",
       "      <td>-0.307822</td>\n",
       "      <td>-2.197955</td>\n",
       "      <td>-1.463419</td>\n",
       "      <td>-0.074418</td>\n",
       "      <td>0.092651</td>\n",
       "      <td>-0.056869</td>\n",
       "      <td>0.461528</td>\n",
       "    </tr>\n",
       "    <tr>\n",
       "      <th>711</th>\n",
       "      <td>-0.441935</td>\n",
       "      <td>1.079612</td>\n",
       "      <td>1.719171</td>\n",
       "      <td>0.615080</td>\n",
       "      <td>-0.400413</td>\n",
       "      <td>0.515423</td>\n",
       "      <td>-0.739730</td>\n",
       "      <td>1.195610</td>\n",
       "      <td>-2.188843</td>\n",
       "      <td>0.424044</td>\n",
       "    </tr>\n",
       "    <tr>\n",
       "      <th>133</th>\n",
       "      <td>-0.647812</td>\n",
       "      <td>-0.924159</td>\n",
       "      <td>0.568424</td>\n",
       "      <td>-0.486223</td>\n",
       "      <td>0.200467</td>\n",
       "      <td>-1.114672</td>\n",
       "      <td>-0.969053</td>\n",
       "      <td>-1.895033</td>\n",
       "      <td>-0.073397</td>\n",
       "      <td>0.884783</td>\n",
       "    </tr>\n",
       "  </tbody>\n",
       "</table>\n",
       "<p>330 rows × 10 columns</p>\n",
       "</div>"
      ],
      "text/plain": [
       "          WTT       PTI       EQW       SBI       LQE       QWG       FDJ  \\\n",
       "521 -0.840720  1.583438  1.018093 -1.214048 -0.557318 -0.108117  0.418539   \n",
       "737  1.381655  0.412642 -0.440155  0.576212 -1.489652 -1.060713 -0.849707   \n",
       "740  1.268502  0.133668  0.717822  0.957695 -0.361608  0.645475 -2.549821   \n",
       "660  0.911948 -0.433407 -1.315355  1.037253 -0.943751 -1.081542 -1.807654   \n",
       "411 -0.017284  0.739700  0.321345 -0.096414 -0.245185  0.692505  0.511209   \n",
       "..        ...       ...       ...       ...       ...       ...       ...   \n",
       "506  1.527228  0.351409 -0.594208 -0.294356  0.532733  0.142463 -1.008286   \n",
       "342 -0.816886 -1.494791 -0.711867 -0.100880 -0.853004 -1.020837  0.517168   \n",
       "485 -0.950710  0.342405  0.057680 -0.307822 -2.197955 -1.463419 -0.074418   \n",
       "711 -0.441935  1.079612  1.719171  0.615080 -0.400413  0.515423 -0.739730   \n",
       "133 -0.647812 -0.924159  0.568424 -0.486223  0.200467 -1.114672 -0.969053   \n",
       "\n",
       "          PJF       HQE       NXJ  \n",
       "521  0.495338 -0.407867  0.406975  \n",
       "737 -1.839249  0.932394 -0.928714  \n",
       "740 -0.904516 -0.422002  1.089682  \n",
       "660  0.573993  0.310824 -0.010354  \n",
       "411 -0.206656 -0.184316  2.460944  \n",
       "..        ...       ...       ...  \n",
       "506 -0.452064  1.557091 -2.828660  \n",
       "342  0.446645  0.906404  0.562439  \n",
       "485  0.092651 -0.056869  0.461528  \n",
       "711  1.195610 -2.188843  0.424044  \n",
       "133 -1.895033 -0.073397  0.884783  \n",
       "\n",
       "[330 rows x 10 columns]"
      ]
     },
     "execution_count": 55,
     "metadata": {},
     "output_type": "execute_result"
    }
   ],
   "source": [
    "X_test"
   ]
  },
  {
   "cell_type": "code",
   "execution_count": 56,
   "metadata": {},
   "outputs": [
    {
     "data": {
      "text/plain": [
       "521    0\n",
       "737    1\n",
       "740    1\n",
       "660    1\n",
       "411    0\n",
       "      ..\n",
       "506    1\n",
       "342    1\n",
       "485    0\n",
       "711    0\n",
       "133    1\n",
       "Name: TARGET CLASS, Length: 330, dtype: int64"
      ]
     },
     "execution_count": 56,
     "metadata": {},
     "output_type": "execute_result"
    }
   ],
   "source": [
    "y_test"
   ]
  },
  {
   "cell_type": "code",
   "execution_count": 49,
   "metadata": {},
   "outputs": [],
   "source": [
    "redi=knn.predict(X_test)"
   ]
  },
  {
   "cell_type": "code",
   "execution_count": 57,
   "metadata": {},
   "outputs": [
    {
     "data": {
      "text/plain": [
       "array([0, 1, 1, 1, 0, 1, 0, 1, 0, 1, 1, 0, 0, 0, 0, 0, 0, 1, 1, 1, 0, 1,\n",
       "       0, 0, 0, 1, 1, 0, 0, 1, 1, 0, 1, 0, 0, 0, 0, 1, 0, 1, 1, 1, 1, 1,\n",
       "       1, 0, 1, 0, 1, 0, 1, 1, 0, 1, 1, 1, 0, 1, 1, 0, 1, 1, 1, 1, 0, 1,\n",
       "       0, 0, 1, 0, 0, 0, 0, 1, 0, 0, 0, 0, 1, 1, 1, 1, 1, 0, 1, 0, 1, 0,\n",
       "       1, 0, 1, 1, 0, 0, 1, 0, 1, 1, 0, 1, 0, 1, 1, 1, 0, 0, 0, 0, 1, 0,\n",
       "       1, 0, 1, 1, 1, 0, 1, 0, 0, 1, 1, 1, 1, 0, 0, 0, 1, 0, 0, 1, 1, 1,\n",
       "       0, 1, 0, 0, 1, 1, 0, 1, 0, 1, 0, 0, 1, 1, 1, 1, 0, 0, 0, 0, 0, 1,\n",
       "       1, 0, 0, 0, 0, 1, 1, 1, 0, 1, 1, 1, 0, 1, 0, 1, 0, 1, 0, 0, 0, 1,\n",
       "       1, 1, 1, 1, 1, 1, 1, 1, 0, 1, 1, 0, 0, 0, 0, 0, 0, 0, 0, 1, 1, 0,\n",
       "       0, 1, 1, 1, 0, 0, 1, 1, 0, 1, 1, 1, 0, 1, 0, 1, 1, 0, 1, 0, 1, 0,\n",
       "       0, 0, 1, 1, 1, 0, 1, 1, 1, 1, 1, 1, 1, 0, 1, 1, 0, 1, 0, 1, 1, 0,\n",
       "       0, 1, 1, 0, 0, 0, 0, 0, 1, 1, 1, 0, 1, 0, 1, 0, 0, 0, 1, 1, 1, 0,\n",
       "       0, 0, 1, 1, 0, 0, 0, 1, 1, 0, 1, 1, 0, 0, 0, 1, 0, 0, 1, 0, 1, 0,\n",
       "       1, 0, 1, 0, 0, 1, 0, 0, 0, 1, 1, 0, 0, 0, 1, 0, 0, 1, 0, 0, 1, 0,\n",
       "       1, 0, 1, 1, 0, 1, 0, 1, 0, 0, 1, 1, 1, 1, 0, 1, 1, 1, 1, 1, 0, 1],\n",
       "      dtype=int64)"
      ]
     },
     "execution_count": 57,
     "metadata": {},
     "output_type": "execute_result"
    }
   ],
   "source": [
    "redi"
   ]
  },
  {
   "cell_type": "code",
   "execution_count": 74,
   "metadata": {},
   "outputs": [],
   "source": [
    "from sklearn.metrics import classification_report,confusion_matrix"
   ]
  },
  {
   "cell_type": "code",
   "execution_count": 75,
   "metadata": {},
   "outputs": [
    {
     "name": "stdout",
     "output_type": "stream",
     "text": [
      "[[146   9]\n",
      " [ 11 164]]\n"
     ]
    }
   ],
   "source": [
    "print(confusion_matrix(y_test,redi))"
   ]
  },
  {
   "cell_type": "code",
   "execution_count": 76,
   "metadata": {},
   "outputs": [
    {
     "name": "stdout",
     "output_type": "stream",
     "text": [
      "              precision    recall  f1-score   support\n",
      "\n",
      "           0       0.93      0.94      0.94       155\n",
      "           1       0.95      0.94      0.94       175\n",
      "\n",
      "    accuracy                           0.94       330\n",
      "   macro avg       0.94      0.94      0.94       330\n",
      "weighted avg       0.94      0.94      0.94       330\n",
      "\n"
     ]
    }
   ],
   "source": [
    "print(classification_report(y_test,redi))"
   ]
  },
  {
   "cell_type": "code",
   "execution_count": 77,
   "metadata": {},
   "outputs": [],
   "source": [
    "errorrate=[]\n",
    "\n",
    "for i in range(1,40):\n",
    "    knn=KNeighborsClassifier(n_neighbors=i)\n",
    "    knn.fit(X_train,y_train)\n",
    "    redii=knn.predict(X_test)\n",
    "    errorrate.append(nm.mean(redii!=y_test))\n",
    "    "
   ]
  },
  {
   "cell_type": "code",
   "execution_count": 78,
   "metadata": {},
   "outputs": [
    {
     "data": {
      "text/plain": [
       "[0.06060606060606061,\n",
       " 0.08181818181818182,\n",
       " 0.05454545454545454,\n",
       " 0.05757575757575758,\n",
       " 0.048484848484848485,\n",
       " 0.05454545454545454,\n",
       " 0.05757575757575758,\n",
       " 0.051515151515151514,\n",
       " 0.048484848484848485,\n",
       " 0.048484848484848485,\n",
       " 0.051515151515151514,\n",
       " 0.045454545454545456,\n",
       " 0.048484848484848485,\n",
       " 0.048484848484848485,\n",
       " 0.051515151515151514,\n",
       " 0.051515151515151514,\n",
       " 0.05454545454545454,\n",
       " 0.048484848484848485,\n",
       " 0.05454545454545454,\n",
       " 0.051515151515151514,\n",
       " 0.05454545454545454,\n",
       " 0.05757575757575758,\n",
       " 0.06060606060606061,\n",
       " 0.05454545454545454,\n",
       " 0.05757575757575758,\n",
       " 0.05454545454545454,\n",
       " 0.051515151515151514,\n",
       " 0.051515151515151514,\n",
       " 0.048484848484848485,\n",
       " 0.045454545454545456,\n",
       " 0.048484848484848485,\n",
       " 0.045454545454545456,\n",
       " 0.048484848484848485,\n",
       " 0.048484848484848485,\n",
       " 0.048484848484848485,\n",
       " 0.048484848484848485,\n",
       " 0.048484848484848485,\n",
       " 0.051515151515151514,\n",
       " 0.051515151515151514]"
      ]
     },
     "execution_count": 78,
     "metadata": {},
     "output_type": "execute_result"
    }
   ],
   "source": [
    "errorrate"
   ]
  },
  {
   "cell_type": "code",
   "execution_count": 79,
   "metadata": {},
   "outputs": [
    {
     "data": {
      "text/plain": [
       "Text(0, 0.5, 'Error Rate')"
      ]
     },
     "execution_count": 79,
     "metadata": {},
     "output_type": "execute_result"
    },
    {
     "data": {
      "image/png": "[encoded data removed]",
      "text/plain": [
       "<Figure size 720x432 with 1 Axes>"
      ]
     },
     "metadata": {
      "needs_background": "light"
     },
     "output_type": "display_data"
    }
   ],
   "source": [
    "lib.figure(figsize=(10,6))\n",
    "lib.plot(range(1,40),errorrate,color='blue',linestyle='dashed',marker='o',markerfacecolor='red',markersize=10)\n",
    "lib.title('Error Rare vs K Value')\n",
    "lib.xlabel('K')\n",
    "lib.ylabel('Error Rate')"
   ]
  },
  {
   "cell_type": "code",
   "execution_count": 81,
   "metadata": {},
   "outputs": [
    {
     "name": "stdout",
     "output_type": "stream",
     "text": [
      "[[146   9]\n",
      " [ 11 164]]\n",
      "\n",
      "\n",
      "              precision    recall  f1-score   support\n",
      "\n",
      "           0       0.93      0.94      0.94       155\n",
      "           1       0.95      0.94      0.94       175\n",
      "\n",
      "    accuracy                           0.94       330\n",
      "   macro avg       0.94      0.94      0.94       330\n",
      "weighted avg       0.94      0.94      0.94       330\n",
      "\n"
     ]
    }
   ],
   "source": [
    "knn=KNeighborsClassifier(n_neighbors=17)\n",
    "knn.fit(X_train,y_train)\n",
    "redic=knn.predict(X_test)\n",
    "print(confusion_matrix(y_test,redi))\n",
    "print('\\n')\n",
    "print(classification_report(y_test,redi))\n"
   ]
  },
  {
   "cell_type": "code",
   "execution_count": null,
   "metadata": {},
   "outputs": [],
   "source": []
  },
  {
   "cell_type": "code",
   "execution_count": null,
   "metadata": {},
   "outputs": [],
   "source": []
  }
 ],
 "metadata": {
  "kernelspec": {
   "display_name": "Python 3",
   "language": "python",
   "name": "python3"
  },
  "language_info": {
   "codemirror_mode": {
    "name": "ipython",
    "version": 3
   },
   "file_extension": ".py",
   "mimetype": "text/x-python",
   "name": "python",
   "nbconvert_exporter": "python",
   "pygments_lexer": "ipython3",
   "version": "3.7.4"
  }
 },
 "nbformat": 4,
 "nbformat_minor": 4
}
